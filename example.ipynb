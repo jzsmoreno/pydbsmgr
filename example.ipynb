{
 "cells": [
  {
   "cell_type": "code",
   "execution_count": null,
   "metadata": {},
   "outputs": [],
   "source": [
    "from pydbsmgr import *\n",
    "from pydbsmgr.utils.tools import *\n",
    "import pandas as pd"
   ]
  },
  {
   "cell_type": "markdown",
   "metadata": {},
   "source": [
    "## Example of cleaning a dataset"
   ]
  },
  {
   "cell_type": "code",
   "execution_count": null,
   "metadata": {},
   "outputs": [],
   "source": [
    "# https://www.kaggle.com/datasets/amaanansari09/most-streamed-songs-all-time\n",
    "features_df = pd.read_csv(\"./data/Features.csv\", encoding=\"utf-8\")\n",
    "streams_df = pd.read_csv(\"./data/Streams.csv\", encoding=\"utf-8\")\n",
    "\n",
    "list_of_df = [features_df, streams_df]\n",
    "list_of_names = [\"Features\", \"Streams\"]"
   ]
  },
  {
   "cell_type": "code",
   "execution_count": null,
   "metadata": {},
   "outputs": [],
   "source": [
    "j = 0\n",
    "df_sheet_files_info = pd.DataFrame()\n",
    "\n",
    "for df in list_of_df:\n",
    "    info, df = check_values(df, df_name=list_of_names[j], mode=False)\n",
    "    df_sheet_files_info = pd.concat([df_sheet_files_info, info])\n",
    "    j += 1\n",
    "df_sheet_files_info.to_html(f\"report-health-checker.html\", index=False, encoding=\"utf-8\")"
   ]
  },
  {
   "cell_type": "code",
   "execution_count": null,
   "metadata": {},
   "outputs": [],
   "source": [
    "# Another way to do the same but with fewer lines of code is as follows\n",
    "dfs_, report = check_for_list(list_of_df, list_of_names, mode=False)"
   ]
  },
  {
   "cell_type": "markdown",
   "metadata": {},
   "source": [
    "## ETL example using Azure Cloud "
   ]
  },
  {
   "cell_type": "code",
   "execution_count": null,
   "metadata": {},
   "outputs": [],
   "source": [
    "from datetime import date\n",
    "\n",
    "from pydbsmgr.logs import *\n",
    "from pydbsmgr.utils.azure_sdk import *"
   ]
  },
  {
   "cell_type": "code",
   "execution_count": null,
   "metadata": {},
   "outputs": [],
   "source": [
    "connection_string = get_connection_string()\n",
    "database_name = \"test_database\"\n",
    "logsbook_name = \"test_logsbook\"\n",
    "current_datetime = date.today()\n",
    "container_name = \"raw\""
   ]
  },
  {
   "cell_type": "code",
   "execution_count": null,
   "metadata": {},
   "outputs": [],
   "source": [
    "# For this example, assume you’re using a dictionary to pass the data\n",
    "data = {\n",
    "    \"name\": [\"Xavier\", \"Ann\", \"Jana\", \"Yi\", \"Robin\", \"Amal\", \"Nori\"],\n",
    "    \"city\": [\"Mexico City\", \"Toronto\", \"Prague\", \"Shanghai\", \"Manchester\", \"Cairo\", \"Osaka\"],\n",
    "    \"age\": [41, 28, 33, 34, 38, 31, 37],\n",
    "    \"py-score\": [88.0, 79.0, 81.0, 80.0, 68.0, 61.0, 84.0],\n",
    "}\n",
    "\n",
    "# Now you’re ready to create a pandas DataFrame\n",
    "df = pd.DataFrame(data)\n",
    "\n",
    "controller = StorageController(connection_string, container_name)\n",
    "logbook = EventLogBook(logsbook_name, \"./\")\n",
    "\n",
    "logbook_data = pd.DataFrame(\n",
    "    {\n",
    "        \"container\": [container_name],\n",
    "        \"name\": [database_name],\n",
    "        \"datetime\": [current_datetime],\n",
    "    }\n",
    ")"
   ]
  },
  {
   "cell_type": "code",
   "execution_count": null,
   "metadata": {},
   "outputs": [],
   "source": [
    "%%capture\n",
    "controller.upload_parquet(\"/\", [df], [database_name])\n",
    "controller.upload_parquet(\"/\", [df], [database_name], compression=False)\n",
    "BlobList = controller.get_BlobList(\"/\")\n",
    "controller._print_BlobPrefix()\n",
    "\n",
    "del BlobList[0]\n",
    "\n",
    "controller.set_BlobPrefix(BlobList)\n",
    "controller._print_BlobPrefix()\n",
    "\n",
    "dfs, names = controller.get_parquet(\"/\", \"\\w+.parquet\", True)\n",
    "\n",
    "logbook.create(logbook_data)"
   ]
  },
  {
   "cell_type": "code",
   "execution_count": null,
   "metadata": {},
   "outputs": [],
   "source": []
  }
 ],
 "metadata": {
  "kernelspec": {
   "display_name": "Python 3 (ipykernel)",
   "language": "python",
   "name": "python3"
  },
  "language_info": {
   "codemirror_mode": {
    "name": "ipython",
    "version": 3
   },
   "file_extension": ".py",
   "mimetype": "text/x-python",
   "name": "python",
   "nbconvert_exporter": "python",
   "pygments_lexer": "ipython3",
   "version": "3.10.13"
  }
 },
 "nbformat": 4,
 "nbformat_minor": 4
}
