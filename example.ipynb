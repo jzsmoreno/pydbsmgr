{
 "cells": [
  {
   "cell_type": "code",
   "execution_count": 1,
   "metadata": {},
   "outputs": [],
   "source": [
    "from pydbsmgr import *\n",
    "from pydbsmgr.utils.tools import *\n",
    "from pydbsmgr.health import FrameCheck\n",
    "import pandas as pd"
   ]
  },
  {
   "cell_type": "markdown",
   "metadata": {},
   "source": [
    "## Example of cleaning a dataset"
   ]
  },
  {
   "cell_type": "code",
   "execution_count": 2,
   "metadata": {},
   "outputs": [],
   "source": [
    "# https://www.kaggle.com/datasets/amaanansari09/most-streamed-songs-all-time\n",
    "features_df = pd.read_csv(\"./data/Features.csv\", encoding=\"utf-8\")\n",
    "streams_df = pd.read_csv(\"./data/Streams.csv\", encoding=\"utf-8\")\n",
    "\n",
    "list_of_dfs = [features_df, streams_df]\n",
    "list_of_names = [\"Features\", \"Streams\"]"
   ]
  },
  {
   "cell_type": "code",
   "execution_count": 3,
   "metadata": {},
   "outputs": [
    {
     "name": "stderr",
     "output_type": "stream",
     "text": [
      "\u001b[32m2024-01-19 00:51:57.724\u001b[0m | \u001b[1mINFO    \u001b[0m | \u001b[36mpydbsmgr.health\u001b[0m:\u001b[36mfix\u001b[0m:\u001b[36m48\u001b[0m - \u001b[1m1) Empty columns have been removed.\u001b[0m\n",
      "\u001b[32m2024-01-19 00:51:57.744\u001b[0m | \u001b[1mINFO    \u001b[0m | \u001b[36mpydbsmgr.health\u001b[0m:\u001b[36mfix\u001b[0m:\u001b[36m50\u001b[0m - \u001b[1m1) Columns have been cleaned and transformed.\u001b[0m\n",
      "\u001b[32m2024-01-19 00:51:57.763\u001b[0m | \u001b[1mINFO    \u001b[0m | \u001b[36mpydbsmgr.health\u001b[0m:\u001b[36m_ops_dtypes\u001b[0m:\u001b[36m161\u001b[0m - \u001b[1m1) The data type has been verified.\u001b[0m\n",
      "\u001b[32m2024-01-19 00:51:57.765\u001b[0m | \u001b[1mINFO    \u001b[0m | \u001b[36mpydbsmgr.health\u001b[0m:\u001b[36m_ops_dtypes\u001b[0m:\u001b[36m163\u001b[0m - \u001b[1m1) The `nan` strings have been replaced by `np.nan`.\u001b[0m\n",
      "\u001b[32m2024-01-19 00:51:57.769\u001b[0m | \u001b[1mINFO    \u001b[0m | \u001b[36mpydbsmgr.health\u001b[0m:\u001b[36m_ops_dtypes\u001b[0m:\u001b[36m165\u001b[0m - \u001b[1m1) Only the named columns have been retained.\u001b[0m\n",
      "\u001b[32m2024-01-19 00:51:57.773\u001b[0m | \u001b[1mINFO    \u001b[0m | \u001b[36mpydbsmgr.health\u001b[0m:\u001b[36mfix\u001b[0m:\u001b[36m48\u001b[0m - \u001b[1m2) Empty columns have been removed.\u001b[0m\n",
      "\u001b[32m2024-01-19 00:51:57.777\u001b[0m | \u001b[1mINFO    \u001b[0m | \u001b[36mpydbsmgr.health\u001b[0m:\u001b[36mfix\u001b[0m:\u001b[36m50\u001b[0m - \u001b[1m2) Columns have been cleaned and transformed.\u001b[0m\n",
      "\u001b[32m2024-01-19 00:51:57.933\u001b[0m | \u001b[1mINFO    \u001b[0m | \u001b[36mpydbsmgr.health\u001b[0m:\u001b[36m_ops_dtypes\u001b[0m:\u001b[36m161\u001b[0m - \u001b[1m2) The data type has been verified.\u001b[0m\n",
      "\u001b[32m2024-01-19 00:51:57.933\u001b[0m | \u001b[1mINFO    \u001b[0m | \u001b[36mpydbsmgr.health\u001b[0m:\u001b[36m_ops_dtypes\u001b[0m:\u001b[36m163\u001b[0m - \u001b[1m2) The `nan` strings have been replaced by `np.nan`.\u001b[0m\n",
      "\u001b[32m2024-01-19 00:51:57.944\u001b[0m | \u001b[1mINFO    \u001b[0m | \u001b[36mpydbsmgr.health\u001b[0m:\u001b[36m_ops_dtypes\u001b[0m:\u001b[36m165\u001b[0m - \u001b[1m2) Only the named columns have been retained.\u001b[0m\n"
     ]
    },
    {
     "data": {
      "text/html": [
       "<div>\n",
       "<style scoped>\n",
       "    .dataframe tbody tr th:only-of-type {\n",
       "        vertical-align: middle;\n",
       "    }\n",
       "\n",
       "    .dataframe tbody tr th {\n",
       "        vertical-align: top;\n",
       "    }\n",
       "\n",
       "    .dataframe thead th {\n",
       "        text-align: right;\n",
       "    }\n",
       "</style>\n",
       "<table border=\"1\" class=\"dataframe\">\n",
       "  <thead>\n",
       "    <tr style=\"text-align: right;\">\n",
       "      <th></th>\n",
       "      <th>id</th>\n",
       "      <th>name</th>\n",
       "      <th>duration</th>\n",
       "      <th>energy</th>\n",
       "      <th>key</th>\n",
       "      <th>loudness</th>\n",
       "      <th>mode</th>\n",
       "      <th>speechiness</th>\n",
       "      <th>acousticness</th>\n",
       "      <th>instrumentalness</th>\n",
       "      <th>liveness</th>\n",
       "      <th>valence</th>\n",
       "      <th>tempo</th>\n",
       "      <th>danceability</th>\n",
       "    </tr>\n",
       "  </thead>\n",
       "  <tbody>\n",
       "    <tr>\n",
       "      <th>0</th>\n",
       "      <td>0VjIjW4GlUZAMYd2vXMi3b</td>\n",
       "      <td>Blinding Lights</td>\n",
       "      <td>3.33</td>\n",
       "      <td>0.730</td>\n",
       "      <td>1</td>\n",
       "      <td>-5.934</td>\n",
       "      <td>1</td>\n",
       "      <td>0.0598</td>\n",
       "      <td>0.00146</td>\n",
       "      <td>0.000095</td>\n",
       "      <td>0.0897</td>\n",
       "      <td>0.334</td>\n",
       "      <td>171.005</td>\n",
       "      <td>0.514</td>\n",
       "    </tr>\n",
       "    <tr>\n",
       "      <th>1</th>\n",
       "      <td>7qiZfU4dY1lWllzX7mPBI3</td>\n",
       "      <td>Shape Of You</td>\n",
       "      <td>3.90</td>\n",
       "      <td>0.652</td>\n",
       "      <td>1</td>\n",
       "      <td>-3.183</td>\n",
       "      <td>0</td>\n",
       "      <td>0.0802</td>\n",
       "      <td>0.58100</td>\n",
       "      <td>0.000000</td>\n",
       "      <td>0.0931</td>\n",
       "      <td>0.931</td>\n",
       "      <td>95.977</td>\n",
       "      <td>0.825</td>\n",
       "    </tr>\n",
       "    <tr>\n",
       "      <th>2</th>\n",
       "      <td>2XU0oxnq2qxCpomAAuJY8K</td>\n",
       "      <td>Dance Monkey</td>\n",
       "      <td>3.49</td>\n",
       "      <td>0.588</td>\n",
       "      <td>6</td>\n",
       "      <td>-6.400</td>\n",
       "      <td>0</td>\n",
       "      <td>0.0924</td>\n",
       "      <td>0.69200</td>\n",
       "      <td>0.000104</td>\n",
       "      <td>0.1490</td>\n",
       "      <td>0.513</td>\n",
       "      <td>98.027</td>\n",
       "      <td>0.824</td>\n",
       "    </tr>\n",
       "    <tr>\n",
       "      <th>3</th>\n",
       "      <td>7qEHsqek33rTcFNT9PFqLf</td>\n",
       "      <td>Someone You Loved</td>\n",
       "      <td>3.04</td>\n",
       "      <td>0.405</td>\n",
       "      <td>1</td>\n",
       "      <td>-5.679</td>\n",
       "      <td>1</td>\n",
       "      <td>0.0319</td>\n",
       "      <td>0.75100</td>\n",
       "      <td>0.000000</td>\n",
       "      <td>0.1050</td>\n",
       "      <td>0.446</td>\n",
       "      <td>109.891</td>\n",
       "      <td>0.501</td>\n",
       "    </tr>\n",
       "    <tr>\n",
       "      <th>4</th>\n",
       "      <td>0e7ipj03S05BNilyu5bRzt</td>\n",
       "      <td>Rockstar</td>\n",
       "      <td>3.64</td>\n",
       "      <td>0.520</td>\n",
       "      <td>5</td>\n",
       "      <td>-6.136</td>\n",
       "      <td>0</td>\n",
       "      <td>0.0712</td>\n",
       "      <td>0.12400</td>\n",
       "      <td>0.000070</td>\n",
       "      <td>0.1310</td>\n",
       "      <td>0.129</td>\n",
       "      <td>159.801</td>\n",
       "      <td>0.585</td>\n",
       "    </tr>\n",
       "  </tbody>\n",
       "</table>\n",
       "</div>"
      ],
      "text/plain": [
       "                       id               name  duration  energy  key  loudness  \\\n",
       "0  0VjIjW4GlUZAMYd2vXMi3b    Blinding Lights      3.33   0.730    1    -5.934   \n",
       "1  7qiZfU4dY1lWllzX7mPBI3       Shape Of You      3.90   0.652    1    -3.183   \n",
       "2  2XU0oxnq2qxCpomAAuJY8K       Dance Monkey      3.49   0.588    6    -6.400   \n",
       "3  7qEHsqek33rTcFNT9PFqLf  Someone You Loved      3.04   0.405    1    -5.679   \n",
       "4  0e7ipj03S05BNilyu5bRzt           Rockstar      3.64   0.520    5    -6.136   \n",
       "\n",
       "   mode  speechiness  acousticness  instrumentalness  liveness  valence  \\\n",
       "0     1       0.0598       0.00146          0.000095    0.0897    0.334   \n",
       "1     0       0.0802       0.58100          0.000000    0.0931    0.931   \n",
       "2     0       0.0924       0.69200          0.000104    0.1490    0.513   \n",
       "3     1       0.0319       0.75100          0.000000    0.1050    0.446   \n",
       "4     0       0.0712       0.12400          0.000070    0.1310    0.129   \n",
       "\n",
       "     tempo  danceability  \n",
       "0  171.005         0.514  \n",
       "1   95.977         0.825  \n",
       "2   98.027         0.824  \n",
       "3  109.891         0.501  \n",
       "4  159.801         0.585  "
      ]
     },
     "execution_count": 3,
     "metadata": {},
     "output_type": "execute_result"
    }
   ],
   "source": [
    "handler = FrameCheck(list_of_dfs, list_of_names)\n",
    "handler.fix()\n",
    "clean_dfs = handler.get_frames()\n",
    "clean_dfs[0].head()"
   ]
  },
  {
   "cell_type": "code",
   "execution_count": 4,
   "metadata": {},
   "outputs": [
    {
     "name": "stderr",
     "output_type": "stream",
     "text": [
      "\u001b[32m2024-01-19 00:52:01.293\u001b[0m | \u001b[1mINFO    \u001b[0m | \u001b[36mpydbsmgr.health\u001b[0m:\u001b[36mgenerate_report\u001b[0m:\u001b[36m142\u001b[0m - \u001b[1mDataFrame 'Features' has been processed\u001b[0m\n",
      "\u001b[32m2024-01-19 00:52:03.553\u001b[0m | \u001b[1mINFO    \u001b[0m | \u001b[36mpydbsmgr.health\u001b[0m:\u001b[36mgenerate_report\u001b[0m:\u001b[36m142\u001b[0m - \u001b[1mDataFrame 'Streams' has been processed\u001b[0m\n",
      "\u001b[32m2024-01-19 00:52:03.563\u001b[0m | \u001b[1mINFO    \u001b[0m | \u001b[36mpydbsmgr.health\u001b[0m:\u001b[36mgenerate_report\u001b[0m:\u001b[36m146\u001b[0m - \u001b[1mA report has been created under the name './report.html'\u001b[0m\n"
     ]
    }
   ],
   "source": [
    "%%capture\n",
    "handler.generate_report()"
   ]
  },
  {
   "cell_type": "markdown",
   "metadata": {},
   "source": [
    "## ETL example using Azure Cloud "
   ]
  },
  {
   "cell_type": "code",
   "execution_count": null,
   "metadata": {},
   "outputs": [],
   "source": [
    "from datetime import date\n",
    "\n",
    "from pydbsmgr.logs import *\n",
    "from pydbsmgr.utils.azure_sdk import *"
   ]
  },
  {
   "cell_type": "code",
   "execution_count": null,
   "metadata": {},
   "outputs": [],
   "source": [
    "connection_string = get_connection_string()\n",
    "database_name = \"test_database\"\n",
    "logsbook_name = \"test_logsbook\"\n",
    "current_datetime = date.today()\n",
    "container_name = \"raw\""
   ]
  },
  {
   "cell_type": "code",
   "execution_count": null,
   "metadata": {},
   "outputs": [],
   "source": [
    "# For this example, assume you’re using a dictionary to pass the data\n",
    "data = {\n",
    "    \"name\": [\"Xavier\", \"Ann\", \"Jana\", \"Yi\", \"Robin\", \"Amal\", \"Nori\"],\n",
    "    \"city\": [\"Mexico City\", \"Toronto\", \"Prague\", \"Shanghai\", \"Manchester\", \"Cairo\", \"Osaka\"],\n",
    "    \"age\": [41, 28, 33, 34, 38, 31, 37],\n",
    "    \"py-score\": [88.0, 79.0, 81.0, 80.0, 68.0, 61.0, 84.0],\n",
    "}\n",
    "\n",
    "# Now you’re ready to create a pandas DataFrame\n",
    "df = pd.DataFrame(data)\n",
    "\n",
    "controller = StorageController(connection_string, container_name)\n",
    "logbook = EventLogBook(logsbook_name, \"./\")\n",
    "\n",
    "logbook_data = pd.DataFrame(\n",
    "    {\n",
    "        \"container\": [container_name],\n",
    "        \"name\": [database_name],\n",
    "        \"datetime\": [current_datetime],\n",
    "    }\n",
    ")"
   ]
  },
  {
   "cell_type": "code",
   "execution_count": null,
   "metadata": {},
   "outputs": [],
   "source": [
    "%%capture\n",
    "controller.upload_parquet(\"/\", [df], [database_name])\n",
    "controller.upload_parquet(\"/\", [df], [database_name], compression=False)\n",
    "BlobList = controller.get_BlobList(\"/\")\n",
    "controller._print_BlobPrefix()\n",
    "\n",
    "del BlobList[0]\n",
    "\n",
    "controller.set_BlobPrefix(BlobList)\n",
    "controller._print_BlobPrefix()\n",
    "\n",
    "dfs, names = controller.get_parquet(\"/\", \"\\w+.parquet\", True)\n",
    "\n",
    "logbook.create(logbook_data)"
   ]
  }
 ],
 "metadata": {
  "kernelspec": {
   "display_name": "Python 3 (ipykernel)",
   "language": "python",
   "name": "python3"
  },
  "language_info": {
   "codemirror_mode": {
    "name": "ipython",
    "version": 3
   },
   "file_extension": ".py",
   "mimetype": "text/x-python",
   "name": "python",
   "nbconvert_exporter": "python",
   "pygments_lexer": "ipython3",
   "version": "3.10.9"
  }
 },
 "nbformat": 4,
 "nbformat_minor": 4
}
